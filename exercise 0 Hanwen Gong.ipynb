{
 "cells": [
  {
   "cell_type": "markdown",
   "id": "529d91ae",
   "metadata": {
    "tags": []
   },
   "source": [
    "# Exercise 00\n",
    "Write a bit of code that prints _Introduction to Programming_ to the console and execute the cell"
   ]
  },
  {
   "cell_type": "code",
   "execution_count": 3,
   "id": "98711beb",
   "metadata": {},
   "outputs": [
    {
     "name": "stdout",
     "output_type": "stream",
     "text": [
      "Introduction to Programming\n"
     ]
    }
   ],
   "source": [
    "print(\"Introduction to Programming\")"
   ]
  },
  {
   "cell_type": "markdown",
   "id": "63ad5023",
   "metadata": {},
   "source": [
    "-----------------------------------------------------------------------------\n",
    "# Exercise 01\n",
    "Hello World is traditionally the first program anyone writes. It is\n",
    "very simple and the only thing it should do is print Hello World! to the\n",
    "terminal window.\n",
    "Create a file called HelloWorld.py and edit the contents so it prints Hello World! to the terminal and execute it using the command line."
   ]
  },
  {
   "cell_type": "code",
   "execution_count": 7,
   "id": "9acabc4e",
   "metadata": {
    "scrolled": true
   },
   "outputs": [
    {
     "name": "stdout",
     "output_type": "stream",
     "text": [
      "Hello world!\n"
     ]
    }
   ],
   "source": [
    "%run HelloWorld.py"
   ]
  },
  {
   "cell_type": "markdown",
   "id": "a4a7c4c2",
   "metadata": {},
   "source": [
    "-----------------------------------------------------------------------------\n",
    "# Exercise 02\n",
    "Write some code to print your name, email, and age on separate lines. For each element first assign it to a variable and use the variable to print. \n",
    "\n",
    "Bonus: try to create the print statement for all variable in one line of code. (hint: '\\n' is the character for a new line)"
   ]
  },
  {
   "cell_type": "code",
   "execution_count": 10,
   "id": "fc8fface",
   "metadata": {},
   "outputs": [
    {
     "name": "stdout",
     "output_type": "stream",
     "text": [
      "Hanwen Gong\n",
      "ucbvhg1@ucl.ac.uk\n",
      "23\n",
      "My name is Hanwen Gong.\n",
      "My email is ucbvhg1@ucl.ac.uk.\n",
      "I am 23 years old.\n"
     ]
    }
   ],
   "source": [
    "Name=\"Hanwen Gong\"\n",
    "Email=\"ucbvhg1@ucl.ac.uk\"\n",
    "Age=\"23\"\n",
    "print(Name)\n",
    "print(Email)\n",
    "print(Age)\n",
    "\n",
    "print(f\"My name is {Name}.\\nMy email is {Email}.\\nI am {Age} years old.\")"
   ]
  },
  {
   "cell_type": "markdown",
   "id": "0dd1c1d1",
   "metadata": {},
   "source": [
    "-----------------------------------------------------------------------------\n",
    "# Exercise 03\n",
    "Print the numbers 0, 178, -21, 2938 divided by 49, 436 multiplied with 9948 and 12 to the power of 20\n",
    "\n",
    "(Hint: Look up the documentation of basic arithmetic operators)"
   ]
  },
  {
   "cell_type": "code",
   "execution_count": 11,
   "id": "f3d5d009",
   "metadata": {},
   "outputs": [
    {
     "name": "stdout",
     "output_type": "stream",
     "text": [
      "0\n",
      "178\n",
      "-21\n",
      "59.95918367346939\n",
      "4337328\n",
      "3833759992447475122176\n"
     ]
    }
   ],
   "source": [
    "print(0)\n",
    "print(178)\n",
    "print(-21)\n",
    "division = 2938 / 49\n",
    "print(division)\n",
    "multiplication = 436 * 9948\n",
    "print(multiplication)\n",
    "exponentiation = 12 ** 20\n",
    "print(exponentiation)\n"
   ]
  },
  {
   "cell_type": "markdown",
   "id": "1f151455",
   "metadata": {},
   "source": [
    "-----------------------------------------------------------------------------\n",
    "# Exercise 04\n",
    "Print sin(200), cos(100), tan($\\pi$/4)\n",
    "\n",
    "(Hint: Look up for how to use trigonometric function, and how to get the value of $\\pi$.)"
   ]
  },
  {
   "cell_type": "code",
   "execution_count": 15,
   "id": "d0e37690",
   "metadata": {},
   "outputs": [
    {
     "name": "stdout",
     "output_type": "stream",
     "text": [
      "-0.8732972972139946\n",
      "-0.1736481776669303\n",
      "0.9999999999999999\n"
     ]
    }
   ],
   "source": [
    "import math\n",
    "print(math.sin(200))\n",
    "print(math.cos(math.radians(100)))\n",
    "print(math.tan(math.pi/4))\n"
   ]
  },
  {
   "cell_type": "markdown",
   "id": "9d026820",
   "metadata": {},
   "source": [
    "-----------------------------------------------------------------------------\n",
    "# Exercise 05\n",
    "Write a program to read your first and last names from the console seperately, and then print them on the console together, separated by a space."
   ]
  },
  {
   "cell_type": "code",
   "execution_count": 17,
   "id": "4c7217e0",
   "metadata": {},
   "outputs": [
    {
     "name": "stdout",
     "output_type": "stream",
     "text": [
      "Please input your first name: Hanwen\n",
      "Please input your last name: Gong\n",
      "My name is Hanwen Gong\n"
     ]
    }
   ],
   "source": [
    "First=input(\"Please input your first name: \")\n",
    "Last=input(\"Please input your last name: \")\n",
    "print(f\"My name is {First} {Last}\")"
   ]
  },
  {
   "cell_type": "markdown",
   "id": "e83fa346",
   "metadata": {},
   "source": [
    "-----------------------------------------------------------------------------\n",
    "# Exercise 06\n",
    "Write a program that determines whether a number given as user input is positive or negative\n",
    " \n",
    "You will need to convert the console input from a string to a number first!"
   ]
  },
  {
   "cell_type": "code",
   "execution_count": 20,
   "id": "ecd924c2",
   "metadata": {},
   "outputs": [
    {
     "name": "stdout",
     "output_type": "stream",
     "text": [
      "Please input the number: -6\n",
      "Negative\n"
     ]
    }
   ],
   "source": [
    "num = float(input(\"Please input the number: \"))\n",
    "if num>0:\n",
    "    print(\"Positive\")\n",
    "elif num<0:\n",
    "    print(\"Negative\")\n",
    "else:\n",
    "    print(\"0\")"
   ]
  },
  {
   "cell_type": "markdown",
   "id": "2a192596",
   "metadata": {},
   "source": [
    "-----------------------------------------------------------------------------\n",
    "# Exercise 07\n",
    "Write a program that picks a random number between 1-20 and makes the user guess until they get the number right. Then print a congratulations message\n",
    "- (Find out yourself how to generate a random integer)\n",
    "- Bonus: make the user choose the range within which they have to guess\n",
    "- Bonus: keep track of how many guesses were made and print this at the end"
   ]
  },
  {
   "cell_type": "code",
   "execution_count": 26,
   "id": "70358dd3",
   "metadata": {},
   "outputs": [
    {
     "name": "stdout",
     "output_type": "stream",
     "text": [
      "Minium unmber：2\n",
      "Maxium number：5\n",
      "Please guess number: 2\n",
      "It is bigger\n",
      "Please guess number: 3\n",
      "It is bigger\n",
      "Please guess number: 4\n",
      "It is bigger\n",
      "Please guess number: 5\n",
      "You are right,and the number you have guessed is 4.\n"
     ]
    }
   ],
   "source": [
    "import random\n",
    "mi = int(input(\"Minium unmber：\"))\n",
    "ma = int(input(\"Maxium number：\"))\n",
    "ran = random.randint(mi, ma)\n",
    "count=0\n",
    "while ran!=num:\n",
    "    num=int(input(\"Please guess number: \"))\n",
    "    count += 1\n",
    "    if ran>num:\n",
    "        print(\"It is bigger\")\n",
    "    elif ran<num:\n",
    "        print(\"It is smaller\")\n",
    "    else:\n",
    "        print(f\"You are right,and the number you have guessed is {count}.\")"
   ]
  },
  {
   "cell_type": "markdown",
   "id": "d53b9c07",
   "metadata": {},
   "source": [
    "-----------------------------------------------------------------------------\n",
    "# Exercise 08\n",
    "Ask a sentence as input, then print the words in alphabetical order.\n",
    "Hint: look up how to split up a string"
   ]
  },
  {
   "cell_type": "code",
   "execution_count": 29,
   "id": "b6524cf5",
   "metadata": {},
   "outputs": [
    {
     "name": "stdout",
     "output_type": "stream",
     "text": [
      "Please input a sentense: he is a hero\n",
      "['a', 'he', 'hero', 'is']\n"
     ]
    }
   ],
   "source": [
    "sen=input(\"Please input a sentense: \")\n",
    "word = sen.split()\n",
    "sequence = sorted(word)\n",
    "print(sequence)"
   ]
  },
  {
   "cell_type": "markdown",
   "id": "09a7b060",
   "metadata": {},
   "source": [
    "-----------------------------------------------------------------------------\n",
    "# Exercise 09\n",
    "Write a program using for loops to print a christmas tree of x lines high\n",
    "specified by the user.\n",
    "(use for loops)\n",
    "so for instance, a chrismas tree of 4 high should looks like this:\n",
    "\n",
    "```\n",
    "\n",
    "    *\n",
    "   ***\n",
    "  *****\n",
    " *******\n",
    "    |\n",
    "\n",
    "```\n",
    "\n",
    "hint: first combine strings into a variable before printing"
   ]
  },
  {
   "cell_type": "code",
   "execution_count": 33,
   "id": "5150f7a4",
   "metadata": {},
   "outputs": [
    {
     "name": "stdout",
     "output_type": "stream",
     "text": [
      "Please input the height: 4\n",
      "   *\n",
      "  ***\n",
      " *****\n",
      "*******\n",
      "   |\n"
     ]
    }
   ],
   "source": [
    "x = int(input(\"Please input the height: \"))\n",
    "for i in range(x):\n",
    "    a = ' ' * (x - i - 1)\n",
    "    b = '*' * (2 * i + 1)  \n",
    "    # 合并空格和星号\n",
    "    t = a + b\n",
    "    print(t)\n",
    "w = ' ' * (x - 1) + '|'\n",
    "print(w)\n"
   ]
  },
  {
   "cell_type": "markdown",
   "id": "07f67531",
   "metadata": {},
   "source": [
    "-----------------------------------------------------------------------------\n",
    "# Exercise 10\n",
    "Write a piece of code that prints the first $n$ numbers of the padovan sequence"
   ]
  },
  {
   "cell_type": "code",
   "execution_count": 35,
   "id": "d301c61b",
   "metadata": {},
   "outputs": [
    {
     "name": "stdout",
     "output_type": "stream",
     "text": [
      "The number of numbers of the padovan sequence: 10\n",
      "[1, 1, 1, 2, 2, 3, 4, 5, 7, 9]\n"
     ]
    }
   ],
   "source": [
    "n = int(input(\"The number of numbers of the padovan sequence: \"))\n",
    "p = [1, 1, 1] \n",
    "for i in range(3, n):\n",
    "    n = p[i-2] + p[i-3]  # 计算 P(n)\n",
    "    p.append(n)\n",
    "print(p)\n"
   ]
  },
  {
   "cell_type": "code",
   "execution_count": null,
   "id": "8269c3d3",
   "metadata": {},
   "outputs": [],
   "source": []
  }
 ],
 "metadata": {
  "kernelspec": {
   "display_name": "Python 3 (ipykernel)",
   "language": "python",
   "name": "python3"
  },
  "language_info": {
   "codemirror_mode": {
    "name": "ipython",
    "version": 3
   },
   "file_extension": ".py",
   "mimetype": "text/x-python",
   "name": "python",
   "nbconvert_exporter": "python",
   "pygments_lexer": "ipython3",
   "version": "3.11.5"
  }
 },
 "nbformat": 4,
 "nbformat_minor": 5
}
